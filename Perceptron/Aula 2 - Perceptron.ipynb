{
 "cells": [
  {
   "cell_type": "markdown",
   "id": "02115ad4",
   "metadata": {},
   "source": [
    "w0 = 0.4, w1 = -0.6, w2 = 0.6 limiar = 0.5, tax de aprendizado = 0.4\n",
    "A) Ensinar a rede a gerar a saida -1 para o padrao 001 e a saida +1 para o padrao 110\n",
    "B) A que classe pertencem os padrões 111,000,100,011?"
   ]
  },
  {
   "cell_type": "code",
   "execution_count": 1,
   "id": "ed4bdd65",
   "metadata": {},
   "outputs": [],
   "source": [
    "import numpy as np"
   ]
  },
  {
   "cell_type": "code",
   "execution_count": 2,
   "id": "5c4574db",
   "metadata": {},
   "outputs": [],
   "source": [
    "#classe -1\n",
    "a = np.array([0,0,1])\n",
    "\n",
    "#classe 1\n",
    "b = np.array([1,1,0])\n",
    "\n",
    "#taxa de aprendizado\n",
    "eta = 0.4\n",
    "\n",
    "#viés\n",
    "bias = 0.5"
   ]
  },
  {
   "cell_type": "code",
   "execution_count": 4,
   "id": "c85974b3",
   "metadata": {},
   "outputs": [],
   "source": [
    "#função para a soma ponderada\n",
    "# u = x0.w0 + x1.w1 + x2.w2 - 1*θ\n",
    "# m = x0.w0 + x1.w1 + x2.w2\n",
    "# u = m -1*θ\n",
    "\n",
    "def somaPonderada(X,W):\n",
    "    bias = 0.5\n",
    "    m = np.multiply(X,W)\n",
    "    u = np.sum(m) - 1*bias\n",
    "    return u\n"
   ]
  },
  {
   "cell_type": "code",
   "execution_count": 5,
   "id": "2be00af3",
   "metadata": {},
   "outputs": [],
   "source": [
    "#função de ativação\n",
    "def funcaoSaida(u):\n",
    "    if u>=0:\n",
    "        return 1\n",
    "    else:\n",
    "        return -1"
   ]
  },
  {
   "cell_type": "code",
   "execution_count": 6,
   "id": "a0e9f08a",
   "metadata": {},
   "outputs": [],
   "source": [
    "#função de saida\n",
    "def saida(X,W):\n",
    "    u = somaPonderada(X,W)\n",
    "    return funcaoAtivacao(u)"
   ]
  },
  {
   "cell_type": "code",
   "execution_count": 7,
   "id": "73d653ce",
   "metadata": {},
   "outputs": [],
   "source": [
    "#função que ajusta os pesos\n",
    "#parte central do processo de aprendizagem\n",
    "#novo w1 -> wi = wi+ n.xi(d-y)\n",
    "def ajustaPesos(eta,W,X,bias,d,y):\n",
    "    e = d - y\n",
    "    novoW = W + eta*X*e\n",
    "    novoB = bias + eta*(-1)*e\n",
    "    return novoW, novoB"
   ]
  },
  {
   "cell_type": "markdown",
   "id": "b296cbfa",
   "metadata": {},
   "source": [
    "iteração 1"
   ]
  },
  {
   "cell_type": "code",
   "execution_count": null,
   "id": "cb5c04e9",
   "metadata": {},
   "outputs": [],
   "source": []
  },
  {
   "cell_type": "code",
   "execution_count": null,
   "id": "139c5ee4",
   "metadata": {},
   "outputs": [],
   "source": []
  }
 ],
 "metadata": {
  "kernelspec": {
   "display_name": "Python 3 (ipykernel)",
   "language": "python",
   "name": "python3"
  },
  "language_info": {
   "codemirror_mode": {
    "name": "ipython",
    "version": 3
   },
   "file_extension": ".py",
   "mimetype": "text/x-python",
   "name": "python",
   "nbconvert_exporter": "python",
   "pygments_lexer": "ipython3",
   "version": "3.11.5"
  }
 },
 "nbformat": 4,
 "nbformat_minor": 5
}
